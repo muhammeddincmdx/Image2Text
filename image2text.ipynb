{
 "cells": [
  {
   "cell_type": "markdown",
   "id": "b2a36521-352e-4b77-9407-f7e4bf58ca89",
   "metadata": {
    "tags": []
   },
   "source": [
    "# Image To Text Program\n",
    "\n",
    "\n",
    "\n",
    "\n"
   ]
  },
  {
   "cell_type": "code",
   "execution_count": 1,
   "id": "f26ad35b-8e3f-40c2-96c1-096a1f93df1e",
   "metadata": {
    "tags": []
   },
   "outputs": [
    {
     "name": "stdout",
     "output_type": "stream",
     "text": [
      "Requirement already satisfied: opencv-python in c:\\users\\lenovo\\appdata\\roaming\\python\\python311\\site-packages (4.8.1.78)\n",
      "Requirement already satisfied: numpy>=1.21.2 in c:\\users\\lenovo\\anaconda3\\lib\\site-packages (from opencv-python) (1.24.3)\n",
      "Requirement already satisfied: pytesseract in c:\\users\\lenovo\\anaconda3\\lib\\site-packages (0.3.10)\n",
      "Requirement already satisfied: packaging>=21.3 in c:\\users\\lenovo\\anaconda3\\lib\\site-packages (from pytesseract) (23.1)\n",
      "Requirement already satisfied: Pillow>=8.0.0 in c:\\users\\lenovo\\anaconda3\\lib\\site-packages (from pytesseract) (9.4.0)\n",
      "Requirement already satisfied: pillow in c:\\users\\lenovo\\anaconda3\\lib\\site-packages (9.4.0)\n",
      "Requirement already satisfied: pyperclip in c:\\users\\lenovo\\anaconda3\\lib\\site-packages (1.8.2)\n",
      "Requirement already satisfied: ttkthemes in c:\\users\\lenovo\\anaconda3\\lib\\site-packages (3.2.2)\n",
      "Requirement already satisfied: pillow in c:\\users\\lenovo\\anaconda3\\lib\\site-packages (from ttkthemes) (9.4.0)\n"
     ]
    }
   ],
   "source": [
    "!pip install opencv-python\n",
    "!pip install pytesseract\n",
    "!pip install pillow\n",
    "!pip install pyperclip\n",
    "!pip install ttkthemes\n",
    "# you need to have to run only one time this line\n",
    "# This is for downloading necessary libraries"
   ]
  },
  {
   "cell_type": "markdown",
   "id": "96444f91-ef5b-4458-a544-7ee27f7c590a",
   "metadata": {},
   "source": [
    "## INFO\n",
    "This program will extract text from image.\n",
    "Image format will be png,jpeg\n",
    "In default version can detect english word.\n",
    "If you download other language packages you can use for them only have to change lang =\"selectedlanguage three character form\"\n",
    "\n",
    "\n",
    "\n",
    "For downloading tesseract package you can use this link : https://github.com/tesseract-ocr/tessdoc\n",
    "The file extension should not be open in the file you select, in which case it may give an error because the extension is written twice, so you can turn off file extensions by searching on the internet."
   ]
  },
  {
   "cell_type": "code",
   "execution_count": null,
   "id": "192ddd37-4ac4-4d95-807a-b8a957d0d70e",
   "metadata": {
    "tags": []
   },
   "outputs": [
    {
     "name": "stdout",
     "output_type": "stream",
     "text": [
      "Görüntü yüklenemedi. Lütfen dosya yolunu kontrol edin.\n"
     ]
    }
   ],
   "source": [
    "from tkinter import filedialog, scrolledtext, ttk\n",
    "import cv2\n",
    "import pytesseract\n",
    "from PIL import Image, ImageTk\n",
    "import pyperclip\n",
    "import tkinter as tk\n",
    "from ttkthemes import ThemedStyle\n",
    "\n",
    "font = \"helvetica 12 \"\n",
    "\n",
    "def select_file():\n",
    "    global textshow, imageshow\n",
    "    \n",
    "    file_path = filedialog.askopenfilename(\n",
    "        initialdir=\"/\",\n",
    "        title=\"Select File\",\n",
    "        filetypes=((\"PNG Files\", \"*.png\"), (\"JPEG Files\", \"*.jpeg;*.jpg\"))\n",
    "    )\n",
    "\n",
    "    if not file_path:\n",
    "        return  \n",
    "\n",
    "    textshow.delete(1.0, tk.END)  \n",
    "    image = cv2.imread(file_path)\n",
    "    if image is None:\n",
    "        print(\"Image can not load.\")\n",
    "        return\n",
    "    resized_image = cv2.resize(image, (750, 600))\n",
    "\n",
    "    text_content = pytesseract.image_to_string(resized_image, lang=\"tur\")\n",
    "\n",
    "    textshow.insert(tk.END, text_content)\n",
    "\n",
    "    img = ImageTk.PhotoImage(Image.fromarray(cv2.cvtColor(resized_image, cv2.COLOR_BGR2RGB)))\n",
    "    imageshow.config(image=img)\n",
    "    imageshow.image = img\n",
    "\n",
    "def copy_command():\n",
    "    text_to_copy = textshow.get(1.0, tk.END)\n",
    "    pyperclip.copy(text_to_copy)\n",
    "\n",
    "def cut_command():\n",
    "    copy_command()\n",
    "    delete_command()\n",
    "\n",
    "def delete_command():\n",
    "    textshow.delete(1.0, tk.END)\n",
    "\n",
    "root = tk.Tk()\n",
    "root.state(\"zoomed\")\n",
    "root.title(\"Image2Text\")\n",
    "root.configure(bg=\"black\")  \n",
    "\n",
    "# Apply a themed style\n",
    "style = ThemedStyle(root)\n",
    "style.set_theme(\"equilux\") \n",
    "style.configure(\"TButton\", padding=5, font=(font, 12), background=\"#1E1E1E\", foreground=\"white\") \n",
    "\n",
    "\n",
    "file_frame = ttk.Frame(root, padding=(10, 10, 10, 0), style=\"TFrame\")\n",
    "file_frame.pack(fill=tk.X)\n",
    "\n",
    "image_frame = ttk.Frame(root, padding=10, style=\"TFrame\")\n",
    "image_frame.pack(side=tk.LEFT, fill=tk.BOTH, expand=True)\n",
    "\n",
    "text_frame = ttk.Frame(root, padding=10, style=\"TFrame\")\n",
    "text_frame.pack(side=tk.LEFT, fill=tk.BOTH, expand=True)\n",
    "\n",
    "\n",
    "select_file_button = ttk.Button(file_frame, text=\"Select File\", command=select_file)\n",
    "select_file_button.pack(side=tk.LEFT, padx=5)\n",
    "\n",
    "copy_button = ttk.Button(file_frame, text=\"Copy\", command=copy_command)\n",
    "copy_button.pack(side=tk.LEFT, padx=5)\n",
    "\n",
    "cut_button = ttk.Button(file_frame, text=\"Cut\", command=cut_command)\n",
    "cut_button.pack(side=tk.LEFT, padx=5)\n",
    "\n",
    "delete_button = ttk.Button(file_frame, text=\"Delete\", command=delete_command)\n",
    "delete_button.pack(side=tk.LEFT, padx=5)\n",
    "\n",
    "# Create image label\n",
    "imageshow = tk.Label(image_frame, bg=\"#1E1E1E\", relief=tk.SOLID)\n",
    "imageshow.pack(fill=tk.BOTH, expand=True)\n",
    "\n",
    "# Create scrolled text widget\n",
    "textshow = scrolledtext.ScrolledText(text_frame, wrap=tk.WORD, fg=\"white\", bg=\"#1E1E1E\", width=48, height=20, font=(font, 12))\n",
    "textshow.pack(fill=tk.BOTH, expand=True)\n",
    "\n",
    "root.mainloop()\n"
   ]
  },
  {
   "cell_type": "code",
   "execution_count": null,
   "id": "016d9b1e-d6dd-4c6b-bf0d-99a623ca7755",
   "metadata": {},
   "outputs": [],
   "source": []
  }
 ],
 "metadata": {
  "kernelspec": {
   "display_name": "Python 3 (ipykernel)",
   "language": "python",
   "name": "python3"
  },
  "language_info": {
   "codemirror_mode": {
    "name": "ipython",
    "version": 3
   },
   "file_extension": ".py",
   "mimetype": "text/x-python",
   "name": "python",
   "nbconvert_exporter": "python",
   "pygments_lexer": "ipython3",
   "version": "3.11.5"
  }
 },
 "nbformat": 4,
 "nbformat_minor": 5
}
